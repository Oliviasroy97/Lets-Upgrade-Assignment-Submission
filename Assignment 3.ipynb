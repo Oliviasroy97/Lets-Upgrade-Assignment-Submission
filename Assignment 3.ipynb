{
 "cells": [
  {
   "cell_type": "markdown",
   "metadata": {},
   "source": [
    "# Assignment 3"
   ]
  },
  {
   "cell_type": "markdown",
   "metadata": {},
   "source": [
    "Question 1"
   ]
  },
  {
   "cell_type": "code",
   "execution_count": 2,
   "metadata": {},
   "outputs": [
    {
     "data": {
      "text/plain": [
       "array([ 2,  5,  8, 11, 14, 17, 20, 23, 26, 29, 32, 35, 38, 41, 44, 47, 50])"
      ]
     },
     "execution_count": 2,
     "metadata": {},
     "output_type": "execute_result"
    }
   ],
   "source": [
    "import numpy as np\n",
    "x=np.arange(2,51,3)\n",
    "x\n"
   ]
  },
  {
   "cell_type": "markdown",
   "metadata": {},
   "source": [
    "Question 2"
   ]
  },
  {
   "cell_type": "code",
   "execution_count": 4,
   "metadata": {},
   "outputs": [
    {
     "name": "stdout",
     "output_type": "stream",
     "text": [
      "Enter element of 1st array: \n",
      "50\n",
      "10\n",
      "30\n",
      "40\n",
      "20\n",
      "\n",
      "Enter element of 2nd array: \n",
      "35\n",
      "15\n",
      "25\n",
      "45\n",
      "55\n",
      "\n",
      "Concatenated array: [50 10 30 40 20 35 15 25 45 55]\n",
      "\n",
      "The sorted arrays:\n",
      "[10 20 30 40 50]\n",
      "[15 25 35 45 55]\n",
      "[10 15 20 25 30 35 40 45 50 55]\n"
     ]
    }
   ],
   "source": [
    "l1=[]\n",
    "l2=[]\n",
    "\n",
    "print(\"Enter element of 1st array: \")\n",
    "for i in range(5):\n",
    "    a=int(input())\n",
    "    l1.append(a)\n",
    "\n",
    "print(\"\\nEnter element of 2nd array: \")\n",
    "for i in range(5):\n",
    "    b=int(input())\n",
    "    l2.append(b)\n",
    "\n",
    "arr1=np.array(l1)\n",
    "arr2=np.array(l2)\n",
    "\n",
    "conarr=np.concatenate((arr1, arr2))\n",
    "print(\"\\nConcatenated array:\",conarr)\n",
    "\n",
    "print(\"\\nThe sorted arrays:\")\n",
    "A=np.sort(arr1)\n",
    "B=np.sort(arr2)\n",
    "C=np.sort(conarr)\n",
    "print(A)\n",
    "print(B)\n",
    "print(C)"
   ]
  },
  {
   "cell_type": "markdown",
   "metadata": {},
   "source": [
    "Question 3"
   ]
  },
  {
   "cell_type": "code",
   "execution_count": 5,
   "metadata": {},
   "outputs": [
    {
     "name": "stdout",
     "output_type": "stream",
     "text": [
      "Size of array:5\n",
      "1\n",
      "2\n",
      "3\n",
      "4\n",
      "5\n",
      "\n",
      "Array: [1 2 3 4 5]\n",
      "\n",
      "Dimensions of array: 1\n",
      "\n",
      "Size of array: 5\n"
     ]
    }
   ],
   "source": [
    "arr = []\n",
    "a = int(input(\"Size of array:\"))\n",
    "for i in range(a):\n",
    "    arr.append(int(input()))\n",
    "arr1= np.array(arr)\n",
    "print(\"\\nArray:\",arr1)\n",
    "print(\"\\nDimensions of array:\", arr1.ndim)\n",
    "print(\"\\nSize of array:\", arr1.size)"
   ]
  },
  {
   "cell_type": "markdown",
   "metadata": {},
   "source": [
    "Question 4"
   ]
  },
  {
   "cell_type": "code",
   "execution_count": 11,
   "metadata": {},
   "outputs": [
    {
     "name": "stdout",
     "output_type": "stream",
     "text": [
      "1D array: [ 0  1  2  3  4  5  6  7  8  9 10 11]\n",
      "\n",
      "Shape of 1D array: (12,)\n",
      "\n",
      "Using newaxis to convert 1D array to 2D array:\n",
      "2D Array: [[ 0  1  2  3  4  5  6  7  8  9 10 11]]\n",
      "\n",
      "Shape of 2D array w.r.t rows: (1, 12)\n",
      "\n",
      "2D Array:\n",
      " [[ 0]\n",
      " [ 1]\n",
      " [ 2]\n",
      " [ 3]\n",
      " [ 4]\n",
      " [ 5]\n",
      " [ 6]\n",
      " [ 7]\n",
      " [ 8]\n",
      " [ 9]\n",
      " [10]\n",
      " [11]]\n",
      "\n",
      "Shape of 2D array w.r.t columns: (12, 1)\n",
      "\n",
      "Using expand-dim to convert 1D array to 2D array:\n",
      "2D Array: [[ 0  1  2  3  4  5  6  7  8  9 10 11]]\n",
      "\n",
      "Shape of 2D array w.r.t rows: (1, 12)\n",
      "\n",
      "2D Array:\n",
      " [[ 0]\n",
      " [ 1]\n",
      " [ 2]\n",
      " [ 3]\n",
      " [ 4]\n",
      " [ 5]\n",
      " [ 6]\n",
      " [ 7]\n",
      " [ 8]\n",
      " [ 9]\n",
      " [10]\n",
      " [11]]\n",
      "\n",
      "Shape of 2D array w.r.t columns: (12, 1)\n"
     ]
    }
   ],
   "source": [
    "arr=np.arange(12)\n",
    "print(\"1D array:\",arr)\n",
    "print(\"\\nShape of 1D array:\", arr.shape)\n",
    "\n",
    "#newaxis function\n",
    "print(\"\\nUsing newaxis to convert 1D array to 2D array:\")\n",
    "\n",
    "row_change=arr[np.newaxis, :]\n",
    "print(\"2D Array:\",row_change)\n",
    "print(\"\\nShape of 2D array w.r.t rows:\", row_change.shape)\n",
    "\n",
    "col_change=arr[ :, np.newaxis]\n",
    "print(\"\\n2D Array:\\n\",col_change)\n",
    "print(\"\\nShape of 2D array w.r.t columns:\", col_change.shape)\n",
    "\n",
    "#expand_dims function\n",
    "print(\"\\nUsing expand-dim to convert 1D array to 2D array:\")\n",
    "\n",
    "r_change=np.expand_dims(arr, axis=0)\n",
    "print(\"2D Array:\",r_change)\n",
    "print(\"\\nShape of 2D array w.r.t rows:\", r_change.shape)\n",
    "\n",
    "c_change=np.expand_dims(arr, axis=1)\n",
    "print(\"\\n2D Array:\\n\",c_change)\n",
    "print(\"\\nShape of 2D array w.r.t columns:\", c_change.shape)"
   ]
  },
  {
   "cell_type": "markdown",
   "metadata": {},
   "source": [
    "Question 5"
   ]
  },
  {
   "cell_type": "code",
   "execution_count": 12,
   "metadata": {},
   "outputs": [
    {
     "name": "stdout",
     "output_type": "stream",
     "text": [
      "Vertical Append:\n",
      " [[ 2  4  8]\n",
      " [ 3  6  9]\n",
      " [ 5 10 15]\n",
      " [ 7 14 21]\n",
      " [11 22 33]\n",
      " [13 26 39]]\n",
      "\n",
      "Horizontal Append:\n",
      " [[ 2  4  8  7 14 21]\n",
      " [ 3  6  9 11 22 33]\n",
      " [ 5 10 15 13 26 39]]\n"
     ]
    }
   ],
   "source": [
    "#Consider two square arrays\n",
    "sqarr1=np.array([[2,4,8],[3,6,9],[5,10,15]])\n",
    "sqarr2=np.array([[7,14,21],[11,22,33],[13,26,39]])\n",
    "\n",
    "#Vertical Stack\n",
    "print(\"Vertical Append:\\n\",np.vstack((sqarr1,sqarr2)))\n",
    "\n",
    "#Horizontal Stack\n",
    "print(\"\\nHorizontal Append:\\n\",np.hstack((sqarr1,sqarr2)))\n"
   ]
  },
  {
   "cell_type": "markdown",
   "metadata": {},
   "source": [
    "Question 6"
   ]
  },
  {
   "cell_type": "code",
   "execution_count": 13,
   "metadata": {},
   "outputs": [
    {
     "name": "stdout",
     "output_type": "stream",
     "text": [
      "[Element Frequency]=\n",
      "[[ 1  4]\n",
      " [ 2  1]\n",
      " [ 3  2]\n",
      " [ 4  5]\n",
      " [33  2]\n",
      " [44  2]\n",
      " [50  1]\n",
      " [67  1]\n",
      " [76  1]]\n"
     ]
    }
   ],
   "source": [
    "number_list = np.array([1, 1, 2, 3, 4, 4, 1,33,44,50,67,33,1,76,44,4,4,4,3])\n",
    "\n",
    "(unique, counts) = np.unique(number_list, return_counts=True)\n",
    "frequencies = np.asarray((unique, counts)).T\n",
    "print(\"[Element Frequency]=\")\n",
    "print(frequencies)"
   ]
  },
  {
   "cell_type": "code",
   "execution_count": null,
   "metadata": {},
   "outputs": [],
   "source": []
  }
 ],
 "metadata": {
  "kernelspec": {
   "display_name": "Python 3",
   "language": "python",
   "name": "python3"
  },
  "language_info": {
   "codemirror_mode": {
    "name": "ipython",
    "version": 3
   },
   "file_extension": ".py",
   "mimetype": "text/x-python",
   "name": "python",
   "nbconvert_exporter": "python",
   "pygments_lexer": "ipython3",
   "version": "3.7.6"
  }
 },
 "nbformat": 4,
 "nbformat_minor": 4
}
