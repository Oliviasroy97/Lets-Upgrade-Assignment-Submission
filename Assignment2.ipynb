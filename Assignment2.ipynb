{
 "cells": [
  {
   "cell_type": "markdown",
   "metadata": {},
   "source": [
    "ASSIGNMENT 2"
   ]
  },
  {
   "cell_type": "markdown",
   "metadata": {},
   "source": [
    "Question 1"
   ]
  },
  {
   "cell_type": "code",
   "execution_count": 1,
   "metadata": {},
   "outputs": [
    {
     "name": "stdout",
     "output_type": "stream",
     "text": [
      "1\n",
      "23\n",
      "44\n",
      "51\n",
      "678\n",
      "99\n",
      "2\n",
      "89\n",
      "62\n",
      "15\n",
      "[44, 678, 2, 62]\n"
     ]
    }
   ],
   "source": [
    "e=[]\n",
    "for i in range(10):\n",
    "    n=int(input())\n",
    "    if(n%2==0):\n",
    "        e.append(n)\n",
    "print(e)"
   ]
  },
  {
   "cell_type": "markdown",
   "metadata": {},
   "source": [
    "Question 2"
   ]
  },
  {
   "cell_type": "markdown",
   "metadata": {},
   "source": [
    "List Comprehension\n",
    "\n",
    "\n",
    "List comprehension is an elegant way to define and create a list in python. We can create lists just like mathematical statements and in one line only. The syntax of list comprehension is easier to grasp.\n",
    "\n",
    "A list comprehension generally consist of these parts :\n",
    "Output expression,\n",
    "Input sequence,\n",
    "A variable representing a member of the input sequence and\n",
    "An optional predicate part.\n",
    "\n",
    "For example :\n",
    "lst  =  [x ** 2  for x in range (1, 11)   if  x % 2 == 1] \n",
    "\n",
    "Here,\n",
    " x ** 2 is output expression, \n",
    " \trange (1, 11)  is input sequence, \n",
    " \tx is variable and   \n",
    " \tif x % 2 == 1 is predicate part.\n",
    "\n",
    "Programs to demonstrate list comprehension in Python :\n"
   ]
  },
  {
   "cell_type": "code",
   "execution_count": 3,
   "metadata": {},
   "outputs": [
    {
     "name": "stdout",
     "output_type": "stream",
     "text": [
      "[1, 9, 25, 49, 81]\n"
     ]
    }
   ],
   "source": [
    "# Program to print a list that contains square of all odd numbers from range 1 to 10 \n",
    "odd_square = [] \n",
    "for x in range(1, 11): \n",
    "    if x % 2 == 1: \n",
    "        odd_square.append(x**2) \n",
    "print(odd_square) \n"
   ]
  },
  {
   "cell_type": "code",
   "execution_count": 4,
   "metadata": {},
   "outputs": [
    {
     "name": "stdout",
     "output_type": "stream",
     "text": [
      "[1, 9, 25, 49, 81]\n"
     ]
    }
   ],
   "source": [
    "#Using list comprehension for above program\n",
    "odd_square = [x ** 2 for x in range(1, 11) if x % 2 == 1] \n",
    "print(odd_square) \n"
   ]
  },
  {
   "cell_type": "code",
   "execution_count": 5,
   "metadata": {},
   "outputs": [
    {
     "name": "stdout",
     "output_type": "stream",
     "text": [
      "Enter the size of the list 4\n",
      "\n",
      "\n",
      "Enter the list numbers separated by space 12 34 56 78 89\n",
      "User List:  [12, 34, 56, 78]\n"
     ]
    }
   ],
   "source": [
    "#List comprehension with user input\n",
    "n = int(input(\"Enter the size of the list \"))\n",
    "print(\"\\n\")\n",
    "numList = list(int(num) for num in input(\"Enter the list numbers separated by space \").strip().split())[:n]\n",
    "print(\"User List: \", numList)\n",
    "\n"
   ]
  },
  {
   "cell_type": "markdown",
   "metadata": {},
   "source": [
    "Question 3"
   ]
  },
  {
   "cell_type": "code",
   "execution_count": 6,
   "metadata": {},
   "outputs": [
    {
     "name": "stdout",
     "output_type": "stream",
     "text": [
      "8\n",
      "{1: 1, 2: 4, 3: 9, 4: 16, 5: 25, 6: 36, 7: 49, 8: 64}\n"
     ]
    }
   ],
   "source": [
    "n=int(input())\n",
    "d={}\n",
    "for i in range(1,n+1):\n",
    "    d[i]=i*i\n",
    "    \n",
    "print(d)"
   ]
  },
  {
   "cell_type": "markdown",
   "metadata": {},
   "source": [
    "Question 4"
   ]
  },
  {
   "cell_type": "code",
   "execution_count": 7,
   "metadata": {},
   "outputs": [
    {
     "name": "stdout",
     "output_type": "stream",
     "text": [
      "4\n",
      "Type in UP/DOWN/LEFT/RIGHT and number of steps: UP 5\n",
      "Type in UP/DOWN/LEFT/RIGHT and number of steps: DOWN 3\n",
      "Type in UP/DOWN/LEFT/RIGHT and number of steps: LEFT 3\n",
      "Type in UP/DOWN/LEFT/RIGHT and number of steps: RIGHT 2\n",
      "2\n"
     ]
    }
   ],
   "source": [
    "import math\n",
    "x=0\n",
    "y=0\n",
    "\n",
    "n=int(input())\n",
    "for i in range(1,n+1):\n",
    "    s = input(\"Type in UP/DOWN/LEFT/RIGHT and number of steps: \")\n",
    "    s = s.split(\" \")\n",
    "    if s[0] == \"UP\":\n",
    "        y = y + int(s[1])\n",
    "    elif s[0] == \"DOWN\":\n",
    "        y = y - int(s[1])\n",
    "    elif s[0] == \"LEFT\":\n",
    "        x = x - int(s[1])\n",
    "    elif s[0] == \"RIGHT\":\n",
    "        x = x + int(s[1])\n",
    "\n",
    "c = math.sqrt(x**2 + y**2)\n",
    "\n",
    "print(round(c))\n"
   ]
  },
  {
   "cell_type": "code",
   "execution_count": null,
   "metadata": {},
   "outputs": [],
   "source": []
  }
 ],
 "metadata": {
  "kernelspec": {
   "display_name": "Python 3",
   "language": "python",
   "name": "python3"
  },
  "language_info": {
   "codemirror_mode": {
    "name": "ipython",
    "version": 3
   },
   "file_extension": ".py",
   "mimetype": "text/x-python",
   "name": "python",
   "nbconvert_exporter": "python",
   "pygments_lexer": "ipython3",
   "version": "3.7.6"
  }
 },
 "nbformat": 4,
 "nbformat_minor": 4
}
